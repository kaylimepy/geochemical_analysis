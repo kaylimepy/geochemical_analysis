{
 "cells": [
  {
   "cell_type": "markdown",
   "id": "87d6a091",
   "metadata": {},
   "source": [
    "## Analysis of Geochemical Data\n",
    "### Objective:\n",
    "Demonstrate the ability to analyze and interpret geochemical data, particularly in the context of mining.\n",
    "\n",
    "### Dataset Overview:\n",
    "The data can be downloaded from The Government of Alberta Open Data Portal [here.](https://open.alberta.ca/dataset?q=%22it%22&organization=albertaenergyregulator&tags=GEOCHEMISTRY)\n",
    "\n",
    "The dataset comprises detailed information about outcrop observations and rock samples collected in southern Alberta. It encapsulates comprehensive analytical results for these samples. Additionally, the dataset provides results from a radiometric survey conducted in 2007, presented in a distinct table.\n",
    "\n",
    "While the primary focus of this dataset is on understanding the uranium potential of southern Alberta, the methodologies and analytical techniques employed are analogous to those used in the mining sector. The same approaches can be transferred to analyze mine grades, making the insights from this dataset valuable for broader applications. The dataset is affiliated with the Alberta Geological Survey Open File Report 2009-13, which delves into the petrographic descriptions of exposed Upper Cretaceous and Tertiary rock formations in southern Alberta."
   ]
  },
  {
   "cell_type": "markdown",
   "id": "5daa7c55",
   "metadata": {},
   "source": [
    "## Descriptive Statistics\n",
    "\n",
    "We start by examining the basic statistical summary of the concentrations of potentially harmful elements like Arsenic (As), Mercury (Hg), and Lead (Pb)."
   ]
  },
  {
   "cell_type": "code",
   "execution_count": 6,
   "id": "4713fd56",
   "metadata": {},
   "outputs": [
    {
     "data": {
      "text/html": [
       "<div>\n",
       "<style scoped>\n",
       "    .dataframe tbody tr th:only-of-type {\n",
       "        vertical-align: middle;\n",
       "    }\n",
       "\n",
       "    .dataframe tbody tr th {\n",
       "        vertical-align: top;\n",
       "    }\n",
       "\n",
       "    .dataframe thead th {\n",
       "        text-align: right;\n",
       "    }\n",
       "</style>\n",
       "<table border=\"1\" class=\"dataframe\">\n",
       "  <thead>\n",
       "    <tr style=\"text-align: right;\">\n",
       "      <th></th>\n",
       "      <th>As_ppm_P</th>\n",
       "      <th>Hg_ppm_P</th>\n",
       "      <th>Pb_ppm_P</th>\n",
       "    </tr>\n",
       "  </thead>\n",
       "  <tbody>\n",
       "    <tr>\n",
       "      <th>count</th>\n",
       "      <td>237.000000</td>\n",
       "      <td>237.000000</td>\n",
       "      <td>237.000000</td>\n",
       "    </tr>\n",
       "    <tr>\n",
       "      <th>mean</th>\n",
       "      <td>54.953586</td>\n",
       "      <td>0.263291</td>\n",
       "      <td>10.846371</td>\n",
       "    </tr>\n",
       "    <tr>\n",
       "      <th>std</th>\n",
       "      <td>435.551736</td>\n",
       "      <td>0.215212</td>\n",
       "      <td>10.381110</td>\n",
       "    </tr>\n",
       "    <tr>\n",
       "      <th>min</th>\n",
       "      <td>0.200000</td>\n",
       "      <td>0.200000</td>\n",
       "      <td>0.110000</td>\n",
       "    </tr>\n",
       "    <tr>\n",
       "      <th>25%</th>\n",
       "      <td>2.600000</td>\n",
       "      <td>0.200000</td>\n",
       "      <td>5.490000</td>\n",
       "    </tr>\n",
       "    <tr>\n",
       "      <th>50%</th>\n",
       "      <td>4.500000</td>\n",
       "      <td>0.200000</td>\n",
       "      <td>8.520000</td>\n",
       "    </tr>\n",
       "    <tr>\n",
       "      <th>75%</th>\n",
       "      <td>10.700000</td>\n",
       "      <td>0.200000</td>\n",
       "      <td>13.200000</td>\n",
       "    </tr>\n",
       "    <tr>\n",
       "      <th>max</th>\n",
       "      <td>6500.000000</td>\n",
       "      <td>1.000000</td>\n",
       "      <td>105.000000</td>\n",
       "    </tr>\n",
       "  </tbody>\n",
       "</table>\n",
       "</div>"
      ],
      "text/plain": [
       "          As_ppm_P    Hg_ppm_P    Pb_ppm_P\n",
       "count   237.000000  237.000000  237.000000\n",
       "mean     54.953586    0.263291   10.846371\n",
       "std     435.551736    0.215212   10.381110\n",
       "min       0.200000    0.200000    0.110000\n",
       "25%       2.600000    0.200000    5.490000\n",
       "50%       4.500000    0.200000    8.520000\n",
       "75%      10.700000    0.200000   13.200000\n",
       "max    6500.000000    1.000000  105.000000"
      ]
     },
     "execution_count": 6,
     "metadata": {},
     "output_type": "execute_result"
    }
   ],
   "source": [
    "import pandas\n",
    "import matplotlib.pyplot\n",
    "import seaborn as seaborn\n",
    "\n",
    "samples_results_df = pandas.read_csv('DIG_2009_0017/tbl_Samples_Results.txt', delimiter='\\t', encoding='ISO-8859-1')\n",
    "\n",
    "# Extracting the descriptive statistics for the selected elements\n",
    "harmful_elements = ['As_ppm_P', 'Hg_ppm_P', 'Pb_ppm_P']\n",
    "harmful_elements_summary = samples_results_df[harmful_elements].describe()\n",
    "harmful_elements_summary\n"
   ]
  },
  {
   "cell_type": "markdown",
   "id": "1ff0eeb7",
   "metadata": {},
   "source": [
    "Here's a basic statistical summary of the concentrations of the selected harmful elements:\n",
    "\n",
    "1. Arsenic (As):\n",
    "    - Range: 0.2 ppm to 6,500 ppm\n",
    "    - Mean: Approximately 54.95 ppm\n",
    "    - Median: 4.5 ppm  \n",
    "2. Mercury (Hg):\n",
    "    - Range: 0.2 ppm to 1 ppm\n",
    "    - Mean: Approximately 0.263 ppm\n",
    "    - Median: 0.2 ppm\n",
    "3. Lead (Pb):\n",
    "    - Range: 0.11 ppm to 105 ppm\n",
    "    - Mean: Approximately 10.85 ppm\n",
    "    - Median: 8.52 ppm\n",
    "\n",
    "From the statistics, we can observe that Arsenic has a wide range of concentrations with some very high values, reaching up to 6,500 ppm.\n",
    "\n",
    "Next, let's move to the step of Highlighting High Concentrations. We'll identify samples that have concentrations exceeding the 75th percentile (Q3) for each of these elements, which might indicate unusually high concentrations."
   ]
  },
  {
   "cell_type": "markdown",
   "id": "7adf772f",
   "metadata": {},
   "source": [
    "## Highlighting High Concentrations\n",
    "\n",
    "Next, we identify samples with concentrations exceeding the 75th percentile for each of these elements. This can indicate unusually high concentrations."
   ]
  },
  {
   "cell_type": "code",
   "execution_count": 4,
   "id": "341ef6c8",
   "metadata": {},
   "outputs": [
    {
     "data": {
      "text/html": [
       "<div>\n",
       "<style scoped>\n",
       "    .dataframe tbody tr th:only-of-type {\n",
       "        vertical-align: middle;\n",
       "    }\n",
       "\n",
       "    .dataframe tbody tr th {\n",
       "        vertical-align: top;\n",
       "    }\n",
       "\n",
       "    .dataframe thead th {\n",
       "        text-align: right;\n",
       "    }\n",
       "</style>\n",
       "<table border=\"1\" class=\"dataframe\">\n",
       "  <thead>\n",
       "    <tr style=\"text-align: right;\">\n",
       "      <th></th>\n",
       "      <th>As_ppm_P</th>\n",
       "      <th>Hg_ppm_P</th>\n",
       "      <th>Pb_ppm_P</th>\n",
       "      <th>Sample_Num</th>\n",
       "      <th>E_83U12</th>\n",
       "      <th>N_83U12</th>\n",
       "      <th>Description</th>\n",
       "    </tr>\n",
       "  </thead>\n",
       "  <tbody>\n",
       "    <tr>\n",
       "      <th>0</th>\n",
       "      <td>635.0</td>\n",
       "      <td>NaN</td>\n",
       "      <td>19.5</td>\n",
       "      <td>NaN</td>\n",
       "      <td>NaN</td>\n",
       "      <td>NaN</td>\n",
       "      <td>NaN</td>\n",
       "    </tr>\n",
       "    <tr>\n",
       "      <th>1</th>\n",
       "      <td>25.5</td>\n",
       "      <td>NaN</td>\n",
       "      <td>15.6</td>\n",
       "      <td>NaN</td>\n",
       "      <td>NaN</td>\n",
       "      <td>NaN</td>\n",
       "      <td>NaN</td>\n",
       "    </tr>\n",
       "    <tr>\n",
       "      <th>3</th>\n",
       "      <td>17.9</td>\n",
       "      <td>NaN</td>\n",
       "      <td>NaN</td>\n",
       "      <td>NaN</td>\n",
       "      <td>NaN</td>\n",
       "      <td>NaN</td>\n",
       "      <td>NaN</td>\n",
       "    </tr>\n",
       "    <tr>\n",
       "      <th>5</th>\n",
       "      <td>21.9</td>\n",
       "      <td>NaN</td>\n",
       "      <td>21.0</td>\n",
       "      <td>NaN</td>\n",
       "      <td>NaN</td>\n",
       "      <td>NaN</td>\n",
       "      <td>NaN</td>\n",
       "    </tr>\n",
       "    <tr>\n",
       "      <th>6</th>\n",
       "      <td>13.3</td>\n",
       "      <td>NaN</td>\n",
       "      <td>16.9</td>\n",
       "      <td>NaN</td>\n",
       "      <td>NaN</td>\n",
       "      <td>NaN</td>\n",
       "      <td>NaN</td>\n",
       "    </tr>\n",
       "  </tbody>\n",
       "</table>\n",
       "</div>"
      ],
      "text/plain": [
       "   As_ppm_P  Hg_ppm_P  Pb_ppm_P Sample_Num  E_83U12  N_83U12 Description\n",
       "0     635.0       NaN      19.5        NaN      NaN      NaN         NaN\n",
       "1      25.5       NaN      15.6        NaN      NaN      NaN         NaN\n",
       "3      17.9       NaN       NaN        NaN      NaN      NaN         NaN\n",
       "5      21.9       NaN      21.0        NaN      NaN      NaN         NaN\n",
       "6      13.3       NaN      16.9        NaN      NaN      NaN         NaN"
      ]
     },
     "execution_count": 4,
     "metadata": {},
     "output_type": "execute_result"
    }
   ],
   "source": [
    "# Identify samples with concentrations exceeding the 75th percentile for each harmful element\n",
    "high_concentration_samples = samples_results_df[samples_results_df[harmful_elements] > harmful_elements_summary.loc['75%', harmful_elements]]\n",
    "\n",
    "# Display samples with unusually high concentrations\n",
    "high_concentration_samples = high_concentration_samples.dropna(how='all', subset=harmful_elements)\n",
    "high_concentration_samples[harmful_elements + ['Sample_Num', 'E_83U12', 'N_83U12', 'Description']].head()\n"
   ]
  },
  {
   "cell_type": "markdown",
   "id": "1354a185",
   "metadata": {},
   "source": [
    "Here are some samples with unusually high concentrations of the potentially harmful elements:\n",
    "\n",
    "- For Arsenic (As), we have samples like the one with a concentration of 635 ppm.\n",
    "- For Mercury (Hg), the table does not display any values above the 75th percentile in the displayed rows.\n",
    "- For Lead (Pb), several samples exceed the 75th percentile, with concentrations such as 19.5 ppm and 15.6 ppm.\n",
    "\n",
    "The table also provides the sample number, coordinates (E_83U12 and N_83U12), and a description for context.\n",
    "\n",
    "Next, let's move on to the Correlation Analysis. We'll assess the correlations between the concentrations of these harmful elements to identify any potential patterns or relationships."
   ]
  },
  {
   "cell_type": "markdown",
   "id": "18ace176",
   "metadata": {},
   "source": [
    "## Correlation Analysis\n",
    "\n",
    "We assess the correlations between the concentrations of these harmful elements to identify any potential patterns or relationships."
   ]
  },
  {
   "cell_type": "code",
   "execution_count": 9,
   "id": "f01b5003",
   "metadata": {},
   "outputs": [
    {
     "data": {
      "image/png": "[encoded data removed]",
      "text/plain": [
       "<Figure size 1000x700 with 2 Axes>"
      ]
     },
     "metadata": {},
     "output_type": "display_data"
    }
   ],
   "source": [
    "# Compute correlation matrix for the selected harmful elements\n",
    "correlation_matrix = samples_results_df[harmful_elements].corr()\n",
    "\n",
    "# Visualize the correlation matrix using a heatmap\n",
    "matplotlib.pyplot.figure(figsize=(10, 7))\n",
    "matplotlib.pyplot.title('Correlation Between Harmful Elements')\n",
    "seaborn.heatmap(correlation_matrix, annot=True, cmap='coolwarm', vmin=-1, vmax=1, linewidths=.5)\n",
    "matplotlib.pyplot.show()"
   ]
  },
  {
   "cell_type": "markdown",
   "id": "f8bd050b",
   "metadata": {},
   "source": [
    "Here's the correlation heatmap for the potentially harmful elements:\n",
    "\n",
    "- Arsenic (As) and Lead (Pb) show a moderate positive correlation of approximately 0.44. This suggests that samples with higher concentrations of Arsenic may also tend to have higher concentrations of Lead, although the relationship is not very strong.\n",
    "- Mercury (Hg) shows negligible correlation with both Arsenic and Lead in this dataset.\n",
    "\n",
    "Next, let's visualize the distribution of concentrations for these harmful elements using histograms or box plots. This will give us a clearer understanding of how the concentrations are spread across the dataset."
   ]
  },
  {
   "cell_type": "markdown",
   "id": "3afd348b",
   "metadata": {},
   "source": [
    "## Visualization of Concentrations\n",
    "\n",
    "We visualize the distribution of concentrations for these harmful elements using box plots."
   ]
  },
  {
   "cell_type": "code",
   "execution_count": 13,
   "id": "10b37453",
   "metadata": {},
   "outputs": [
    {
     "data": {
      "image/png": "[encoded data removed]",
      "text/plain": [
       "<Figure size 1200x700 with 1 Axes>"
      ]
     },
     "metadata": {},
     "output_type": "display_data"
    }
   ],
   "source": [
    "# Visualize the distribution of concentrations for harmful elements using box plots\n",
    "matplotlib.pyplot.figure(figsize=(12, 7))\n",
    "\n",
    "# Box plots for harmful elements\n",
    "seaborn.boxplot(data=samples_results_df[harmful_elements], orient='h', palette='Blues')\n",
    "matplotlib.pyplot.title('Distribution of Concentrations for Harmful Elements')\n",
    "matplotlib.pyplot.xlabel('Concentration (ppm)')\n",
    "matplotlib.pyplot.show()\n"
   ]
  },
  {
   "cell_type": "markdown",
   "id": "0c6cefd8",
   "metadata": {},
   "source": [
    "The box plots display the distribution of concentrations for the potentially harmful elements:\n",
    "\n",
    "- **Arsenic (As)**:\n",
    "  - The majority of samples have relatively low concentrations of Arsenic, as indicated by the small box size.\n",
    "  - However, there are several outliers with significantly higher concentrations, extending up to around 6,500 ppm. This suggests there might be specific samples or regions with notably elevated Arsenic levels.\n",
    "- **Mercury (Hg)**:\n",
    "  - Most samples have Mercury concentrations clustered around the lower range, with a few outliers extending up to 1 ppm.\n",
    "- **Lead (Pb)**:\n",
    "  - The concentrations of Lead are more evenly distributed compared to Arsenic and Mercury. Still, there are some outliers with higher concentrations, reaching up to approximately 105 ppm."
   ]
  },
  {
   "cell_type": "markdown",
   "id": "bae7767b",
   "metadata": {},
   "source": [
    "## Summary of Findings\n",
    "\n",
    "### Introduction:\n",
    "- We analyzed a geochemical dataset containing concentrations of various elements and compounds in rock samples.\n",
    "\n",
    "### Analysis Overview:\n",
    "- Basic statistical summaries revealed the range and distribution of concentrations for harmful elements.\n",
    "- We identified samples with particularly high concentrations of these elements, which may warrant further investigation.\n",
    "- Correlation analysis showed a moderate positive correlation between Arsenic and Lead concentrations.\n",
    "\n",
    "### Interpretation:\n",
    "- Regions with high concentrations of harmful elements like Arsenic and Lead might require special attention due to potential environmental and health impacts.\n",
    "- The correlation between Arsenic and Lead may indicate specific mineralization types or contamination sources in the sampled regions.\n",
    "\n",
    "---"
   ]
  }
 ],
 "metadata": {
  "kernelspec": {
   "display_name": "Python 3",
   "language": "python",
   "name": "python3"
  },
  "language_info": {
   "codemirror_mode": {
    "name": "ipython",
    "version": 3
   },
   "file_extension": ".py",
   "mimetype": "text/x-python",
   "name": "python",
   "nbconvert_exporter": "python",
   "pygments_lexer": "ipython3",
   "version": "3.11.4"
  }
 },
 "nbformat": 4,
 "nbformat_minor": 5
}
